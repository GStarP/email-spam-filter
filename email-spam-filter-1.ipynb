{
 "nbformat": 4,
 "nbformat_minor": 2,
 "metadata": {
  "language_info": {
   "name": "python",
   "codemirror_mode": {
    "name": "ipython",
    "version": 2
   },
   "version": "3.7.0-final"
  },
  "orig_nbformat": 2,
  "file_extension": ".py",
  "mimetype": "text/x-python",
  "name": "python",
  "npconvert_exporter": "python",
  "pygments_lexer": "ipython2",
  "version": 2,
  "kernelspec": {
   "name": "python36264bitpy36conda38ae987df9144d36aeb7041e43accf78",
   "display_name": "Python 3.6.2 64-bit ('py36': conda)"
  }
 },
 "cells": [
  {
   "cell_type": "code",
   "execution_count": 15,
   "metadata": {
    "tags": [
     "outputPrepend"
    ]
   },
   "outputs": [
    {
     "output_type": "stream",
     "name": "stdout",
     "text": "), ('valuable', 380), ('ibm', 380), ('litigation', 380), ('door', 379), ('car', 379), ('nation', 379), ('feet', 379), ('trans', 378), ('indicated', 378), ('integration', 378), ('language', 376), ('greater', 376), ('absolutely', 376), ('safety', 376), ('age', 375), ('carol', 375), ('winners', 375), ('serious', 375), ('priority', 374), ('values', 374), ('interviews', 374), ('advance', 373), ('candidate', 373), ('tech', 373), ('informed', 372), ('jennifer', 372), ('charles', 372), ('patrick', 372), ('allocation', 371), ('wrong', 371), ('producer', 371), ('speculative', 371), ('touch', 370), ('enterprise', 370), ('donna', 369), ('holdings', 369), ('fourth', 369), ('ordering', 368), ('ways', 368), ('baylor', 368), ('affiliated', 368), ('que', 368), ('count', 367), ('janet', 366), ('personnel', 366), ('managed', 366), ('writing', 366), ('miller', 366), ('easily', 366), ('print', 365), ('license', 365), ('otc', 365), ('ooking', 365), ('provider', 364), ('standards', 364), ('projecthoneypot', 364), ('asking', 363), ('owner', 363), ('seeing', 363), ('aggressive', 363), ('haven', 362), ('intend', 362), ('usb', 362), ('anita', 361), ('human', 361), ('maintain', 361), ('spend', 361), ('dose', 361), ('invoice', 360), ('valid', 360), ('grow', 360), ('indicating', 360), ('johnson', 359), ('fresh', 359), ('student', 359), ('behind', 358), ('difference', 358), ('seven', 358), ('returned', 358), ('ut', 358), ('ex', 358), ('custom', 358), ('construed', 358), ('unlimited', 357), ('relations', 357), ('land', 357), ('division', 357), ('judge', 357), ('austin', 357), ('un', 357), ('candidates', 357), ('iv', 357), ('enable', 357), ('citigroup', 357), ('allows', 355), ('htm', 355), ('road', 355), ('msn', 355), ('examples', 355), ('notify', 354), ('pressure', 354), ('rules', 354), ('cds', 353), ('campaign', 353), ('bn', 353), ('ext', 352), ('convenience', 352), ('interesting', 352), ('commerce', 352), ('aa', 352), ('mcmahon', 352), ('sexual', 352), ('pjm', 352), ('noms', 351), ('ref', 351), ('continues', 351), ('processes', 351), ('gone', 351), ('oxley', 351), ('intel', 351), ('anjam', 351), ('isn', 350), ('exploration', 350), ('wife', 350), ('education', 350), ('updates', 349), ('lists', 349), ('detail', 349), ('leaving', 349), ('mix', 349), ('coal', 349), ('focused', 349), ('buyer', 348), ('compared', 348), ('contents', 348), ('con', 348), ('aimee', 347), ('generate', 347), ('towards', 347), ('infrastructure', 347), ('oniine', 347), ('calpine', 346), ('talked', 346), ('ten', 346), ('alex', 346), ('strictly', 346), ('audit', 345), ('highest', 345), ('leadership', 345), ('automatically', 345), ('norton', 345), ('win', 345), ('achieve', 345), ('consulting', 345), ('forms', 344), ('entry', 344), ('canadian', 344), ('excellent', 343), ('red', 343), ('ce', 343), ('raised', 343), ('engines', 343), ('bulk', 343), ('cross', 342), ('resulting', 342), ('export', 342), ('match', 341), ('sun', 341), ('prepared', 341), ('ny', 341), ('removal', 341), ('method', 340), ('kept', 340), ('thus', 340), ('bandwidth', 340), ('dropped', 340), ('rm', 340), ('amid', 340), ('decide', 339), ('excess', 339), ('cindy', 339), ('joseph', 339), ('ie', 339), ('quote', 339), ('moment', 338), ('australia', 338), ('expressed', 338), ('domain', 338), ('commitment', 337), ('particularly', 337), ('measure', 337), ('opt', 337), ('delay', 337), ('purchased', 336), ('appear', 336), ('launch', 336), ('bills', 336), ('websites', 335), ('symbol', 335), ('attorney', 335), ('hedge', 335), ('clearly', 335), ('exercise', 334), ('connection', 334), ('emerging', 334), ('secured', 334), ('edward', 333), ('profitable', 333), ('tm', 333), ('relief', 333), ('squirrelmail', 333), ('external', 332), ('extend', 332), ('obligation', 332), ('drew', 332), ('para', 332), ('mexico', 331), ('anne', 331), ('documentation', 330), ('creditors', 330), ('presto', 330), ('zero', 329), ('hsc', 329), ('shell', 329), ('cable', 329), ('settlement', 328), ('wellhead', 328), ('allowed', 328), ('despite', 328), ('earn', 328), ('fallen', 328), ('speaker', 328), ('produced', 327), ('produce', 327), ('dan', 327), ('wil', 327), ('materials', 327), ('built', 326), ('gift', 326), ('wes', 326), ('molly', 326), ('death', 325), ('buyers', 325), ('invested', 325), ('graduate', 325), ('helped', 324), ('direction', 324), ('jean', 324), ('published', 324), ('ordered', 324), ('war', 324), ('faith', 324), ('governor', 324), ('pretty', 323), ('batch', 323), ('function', 323), ('subsidiary', 323), ('host', 323), ('rich', 323), ('collapse', 323), ('predictions', 323), ('takeover', 323), ('bbb', 323), ('stuff', 322), ('links', 322), ('im', 322), ('compaq', 322), ('responsibilities', 321), ('background', 321), ('presentations', 321), ('port', 321), ('megan', 321), ('plain', 321), ('collateral', 321), ('assurance', 321), ('possibility', 320), ('networks', 320), ('pa', 320), ('cotten', 320), ('invite', 320), ('pep', 320), ('mba', 320), ('exclusive', 320), ('bryan', 319), ('coverage', 319), ('paliourg', 319), ('asap', 318), ('whatever', 318), ('tu', 318), ('increasing', 318), ('goal', 318), ('additionally', 317), ('meyers', 317), ('northern', 317), ('ur', 317), ('committed', 316), ('actuals', 316), ('easier', 316), ('purchases', 316), ('lack', 316), ('fun', 316), ('subscription', 316), ('obtain', 316), ('generating', 316), ('packard', 316), ('futures', 316), ('clean', 315), ('professionals', 315), ('van', 315), ('trademarks', 315), ('effects', 315), ('son', 315), ('generators', 315), ('hewlett', 315), ('eogi', 315), ('grants', 315), ('teco', 314), ('union', 314), ('pharmacy', 314), ('fat', 313), ('career', 313), ('deciding', 313), ('satisfaction', 313), ('ones', 312), ('noted', 312), ('operate', 312), ('visual', 312), ('forced', 312), ('ne', 312), ('attacks', 312), ('strategies', 312), ('intent', 311), ('anywhere', 311), ('hands', 311), ('picture', 310), ('functions', 310), ('ownership', 310), ('crude', 310), ('turned', 310), ('heavy', 310), ('authority', 310), ('woman', 309), ('creating', 309), ('formula', 309), ('contacted', 309), ('conversation', 308), ('todd', 308), ('ray', 308), ('spring', 308), ('peak', 308), ('decline', 308), ('gr', 308), ('pill', 308), ('maureen', 308), ('transition', 307), ('decisions', 307), ('miss', 307), ('understands', 307), ('established', 307), ('pertaining', 307), ('setting', 306), ('hotmail', 306), ('art', 306), ('couldn', 306), ('vs', 306), ('quarterly', 306), ('arrange', 306), ('tv', 305), ('whalley', 305), ('saw', 305), ('murphy', 305), ('medications', 305), ('brenda', 304), ('max', 304), ('nyse', 304), ('kate', 304), ('promotional', 304), ('treatment', 304), ('margin', 304), ('anticipates', 304), ('cases', 303), ('flash', 303), ('packages', 303), ('producers', 302), ('star', 302), ('minimum', 302), ('regional', 302), ('procedures', 302), ('breaking', 302), ('cl', 302), ('smtp', 302), ('treasury', 302), ('belden', 302), ('legislation', 302), ('unsecured', 302), ('settlements', 301), ('gathering', 301), ('wasn', 301), ('gives', 301), ('children', 301), ('themselves', 301), ('colleagues', 301), ('errors', 300), ('seem', 300), ('valued', 300), ('ge', 300), ('drug', 300), ('andmanyother', 300), ('vkamins', 300), ('item', 298), ('accepted', 298), ('sports', 298), ('manufacturing', 298), ('male', 298), ('permanent', 297), ('leads', 297), ('redmond', 297), ('players', 297), ('relevant', 297), ('chevrontexaco', 297), ('petroleum', 296), ('specifically', 296), ('factor', 296), ('stage', 296), ('pleasure', 296), ('southwest', 296), ('spokeswoman', 296), ('wouldn', 295), ('proceed', 295), ('presented', 295), ('button', 295), ('directory', 295), ('introduce', 295), ('brief', 295), ('allocated', 294), ('executed', 294), ('properties', 294), ('memo', 294), ('keeping', 294), ('park', 294), ('penny', 294), ('holidays', 294), ('fl', 294), ('coordinator', 294), ('src', 294), ('completely', 293), ('fitch', 293), ('las', 293), ('egm', 293), ('mwh', 293), ('certainly', 292), ('indicate', 292), ('regular', 292), ('sc', 292), ('significantly', 292), ('involving', 292), ('affiliates', 292), ('ami', 291), ('da', 291), ('recommendation', 291), ('putting', 291), ('returns', 291), ('nigeria', 291), ('wysak', 291), ('rto', 291), ('monitor', 290), ('neither', 290), ('doctor', 290), ('sheets', 290), ('em', 290), ('asia', 290), ('substantial', 290), ('releases', 290), ('enw', 290), ('preliminary', 289), ('variety', 289), ('xanax', 289), ('rolex', 289), ('separate', 288), ('del', 288), ('helps', 288), ('announce', 288), ('yield', 288), ('tammie', 288), ('nat', 287), ('heart', 287), ('proprietary', 287), ('leslie', 287), ('thu', 286), ('sometimes', 286), ('shankman', 286), ('remote', 286), ('auction', 286), ('berkeley', 286), ('socal', 286), ('hplc', 285), ('jordan', 285), ('broadcast', 285), ('modeling', 285), ('possibly', 284), ('clynes', 284), ('husband', 284), ('exciting', 284), ('inside', 284), ('amounts', 284), ('degree', 284), ('officers', 284), ('arrangement', 283), ('except', 283), ('ground', 283), ('expensive', 283), ('matt', 283), ('verification', 283), ('opinions', 283), ('cal', 282), ('thru', 282), ('txu', 282), ('teams', 282), ('numerous', 282), ('angeles', 282), ('turbine', 282), ('grid', 282), ('announces', 282), ('si', 282), ('maharashtra', 282), ('larger', 281), ('reviewed', 281), ('formal', 281), ('implementation', 281), ('dell', 281), ('targeted', 281), ('anti', 281), ('hedging', 281), ('jobs', 280), ('lucky', 280), ('association', 280), ('stream', 279), ('basic', 279), ('regulators', 279), ('disclose', 279), ('shanbhogue', 279), ('downgraded', 279), ('screen', 278), ('bruce', 278), ('organizations', 278), ('bridge', 277), ('holiday', 277), ('whom', 277), ('split', 277), ('fri', 277), ('showing', 277), ('machine', 277), ('graves', 276), ('column', 276), ('closely', 276), ('pipelines', 276), ('imagine', 276), ('fwd', 276), ('college', 276), ('experts', 276), ('pull', 276), ('figure', 276), ('nine', 276), ('mack', 276), ('arm', 276), ('reform', 276), ('carlos', 275), ('gotten', 275), ('prompt', 275), ('concerning', 275), ('acts', 275), ('po', 275), ('priced', 274), ('brought', 274), ('blue', 274), ('changing', 274), ('grand', 274), ('wilson', 274), ('maximum', 274), ('innovative', 274), ('rise', 274), ('pdf', 274), ('prefer', 274), ('lp', 273), ('titles', 273), ('types', 273), ('knows', 273), ('cisco', 273), ('consistent', 273), ('caused', 273), ('nature', 273), ('recommended', 273), ('completion', 273), ('acquired', 273), ('boston', 273), ('thinking', 272), ('regard', 272), ('conduct', 272), ('instant', 272), ('ail', 272), ('dwr', 272), ('guy', 271), ('locate', 271), ('pt', 271), ('wa', 271), ('professionai', 271), ('rita', 270), ('helping', 270), ('ppa', 270), ('recommend', 270), ('promise', 270), ('op', 270), ('attempt', 269), ('military', 269), ('generated', 268), ('dept', 268), ('player', 268), ('beyond', 268), ('considering', 268), ('secret', 268), ('palo', 268), ('calgary', 267), ('died', 267), ('happening', 267), ('compare', 267), ('hence', 267), ('visa', 267), ('described', 266), ('manual', 266), ('carry', 266), ('calendar', 266), ('jump', 266), ('unfortunately', 266), ('sf', 266), ('hill', 266), ('lawsuits', 266), ('elizabeth', 265), ('explain', 265), ('supplies', 265), ('doubt', 265), ('rebecca', 265), ('sony', 265), ('valium', 265), ('uses', 264), ('round', 264), ('maker', 264), ('hesitate', 264), ('prepare', 264), ('finding', 264), ('majority', 264), ('bradford', 264), ('applied', 263), ('smaller', 263), ('expand', 263), ('nymex', 263), ('deregulation', 263), ('assembly', 263), ('jason', 262), ('calling', 262), ('portion', 262), ('obviously', 262), ('forecast', 262), ('followed', 262), ('neil', 262), ('dealers', 261), ('england', 261), ('foresee', 261), ('purchasing', 260), ('toward', 260), ('pge', 260), ('spending', 260), ('dpr', 260), ('evaluation', 260), ('onto', 260), ('practices', 259), ('establish', 259), ('massive', 259), ('extensive', 259), ('qualified', 259), ('suit', 259), ('epson', 259), ('holds', 259), ('funding', 259), ('retirement', 259), ('discreet', 259), ('ongoing', 258), ('useful', 258), ('swap', 258), ('materia', 258), ('advises', 257), ('coordinate', 257), ('tap', 257), ('percentage', 257), ('valley', 257), ('christian', 257), ('reliance', 257), ('adult', 257), ('toshiba', 257), ('wifi', 257), ('desire', 256), ('forster', 256), ('liability', 256), ('counsel', 256), ('afx', 256), ('reliant', 255), ('pages', 255), ('principal', 255), ('magazine', 255), ('sponsored', 255), ('pack', 255), ('mar', 254), ('kristin', 254), ('mime', 254), ('vote', 254), ('domestic', 254), ('locations', 253), ('looked', 253), ('enpower', 253), ('adding', 253), ('ratio', 253), ('providers', 252), ('administrative', 252), ('prospects', 252), ('capture', 251), ('causey', 251), ('sat', 251), ('tony', 251), ('affairs', 251), ('movies', 251), ('licensed', 251), ('lawsuit', 251), ('nasdaq', 251), ('town', 250), ('faster', 250), ('institutions', 250), ('prohibited', 250), ('colwell', 250), ('matters', 250), ('quit', 250), ('contacting', 250), ('canon', 250), ('stacey', 249), ('lowered', 249), ('perspective', 249), ('living', 249), ('vol', 249), ('overview', 249), ('bgcolor', 249), ('structuring', 248), ('affect', 248), ('twenty', 248), ('forum', 248), ('papers', 248), ('finances', 248), ('penis', 248), ('ls', 247), ('cutting', 247), ('experienced', 247), ('processed', 247), ('pdx', 247), ('ravi', 247), ('plunged', 247), ('meters', 246), ('authorized', 246), ('represents', 246), ('shopping', 246), ('tool', 246), ('beliefs', 246), ('waste', 246), ('kimberly', 245), ('sort', 245), ('ec', 245), ('restore', 245), ('donald', 244), ('facilitate', 244), ('combination', 244), ('pop', 244), ('sound', 244), ('goldman', 244), ('reviewing', 244), ('expert', 244), ('eight', 244), ('meant', 244), ('nick', 244), ('solid', 244), ('convenient', 244), ('dial', 244), ('soma', 244), ('resolve', 243), ('pounds', 243), ('dallas', 243), ('helpful', 243), ('arthur', 243), ('shona', 243), ('eastern', 243), ('demokritos', 243), ('dowjones', 243), ('shut', 242), ('cooperation', 242), ('apologize', 242), ('busy', 242), ('larry', 242), ('addressed', 242), ('interface', 242), ('greatly', 242), ('clearance', 242), ('ap', 242), ('die', 242), ('ag', 242), ('vnbl', 242), ('effectively', 241), ('reviews', 241), ('shipped', 241), ('azurix', 241), ('policies', 241), ('mo', 241), ('shortly', 241), ('somehow', 241), ('heather', 240), ('practice', 240), ('topics', 240), ('games', 240), ('billing', 239), ('lease', 239), ('complaints', 239), ('poised', 239), ('wells', 238), ('anderson', 238), ('stephanie', 238), ('bed', 238), ('hunter', 238), ('strongly', 238), ('delainey', 238), ('employment', 238), ('improved', 238), ('minister', 238), ('traditional', 238), ('iit', 238), ('deposited', 238), ('ac', 237), ('tour', 237), ('confident', 236), ('maintenance', 236), ('determined', 236), ('referenced', 236), ('economics', 236), ('winter', 236), ('blank', 236), ('length', 236), ('excel', 236), ('fear', 236), ('uncertainty', 236), ('caps', 236), ('rocket', 236), ('reminder', 235), ('appreciated', 235), ('mutual', 235), ('manner', 235), ('seller', 235), ('headed', 235), ('normally', 235), ('places', 235), ('fair', 235), ('weil', 235), ('div', 235), ('blackberry', 235), ('credibility', 235), ('linda', 234), ('social', 234), ('premier', 234), ('michelle', 234), ('condition', 234), ('puc', 234), ('katherine', 233), ('season', 233), ('happened', 233), ('joining', 233), ('club', 233), ('strength', 233), ('presence', 233), ('oniy', 233), ('disclosures', 233), ('realize', 232), ('missing', 232), ('dedicated', 232), ('wed', 232), ('auto', 232), ('chuck', 232), ('task', 232), ('extension', 232), ('walk', 232), ('wood', 232), ('lo', 232), ('chronicle', 232), ('allegheny', 232), ('resolution', 231), ('roll', 231), ('jackson', 231), ('opening', 231), ('drawn', 231), ('specials', 231), ('efficient', 231), ('pacific', 231), ('qualify', 231), ('rx', 231), ('ee', 231), ('nominations', 230), ('handling', 230), ('ended', 230), ('li', 230), ('delta', 230), ('developments', 230), ('des', 230), ('mirant', 230), ('ob', 230), ('paulo', 230), ('aug', 229), ('flight', 229), ('positioned', 229), ('vehicles', 229), ('british', 229), ('assuming', 228), ('privileged', 228), ('webb', 228), ('secretary', 228), ('acrobat', 228), ('emerson', 228), ('ooo', 228), ('morris', 227), ('swing', 227), ('joined', 227), ('generally', 227), ('louis', 227), ('euro', 227), ('centre', 227), ('fired', 227), ('usually', 226), ('tag', 226), ('netscape', 226), ('reading', 226), ('girl', 226), ('recovery', 226), ('suppliers', 225), ('saving', 225), ('flows', 225), ('moves', 225), ('gb', 225), ('schoppe', 225), ('medication', 225), ('jebel', 225), ('sie', 225), ('truly', 224), ('communicate', 224), ('increases', 224), ('camp', 223), ('pipe', 223), ('fuels', 223), ('hanks', 223), ('selection', 223), ('bigger', 223), ('vision', 223), ('gov', 223), ('vl', 223), ('upenn', 223), ('gathered', 222), ('comfortable', 222), ('salary', 222), ('assured', 222), ('sounds', 222), ('warning', 222), ('capabilities', 222), ('rated', 222), ('steel', 222), ('wel', 222), ('technoiogy', 222), ('daniel', 221), ('topic', 221), ('emergency', 221), ('relationships', 221), ('attachments', 221), ('le', 221), ('francisco', 221), ('representatives', 221), ('knew', 221), ('workers', 221), ('expansion', 221), ('citibank', 221), ('resuits', 221), ('accurate', 220), ('encourage', 220), ('lannou', 220), ('attachment', 220), ('techniques', 220), ('speaking', 220), ('florida', 220), ('forth', 220), ('consultant', 220), ('smoking', 220), ('britain', 220), ('smart', 220), ('methods', 220), ('tamarchenko', 220), ('mailwisconsin', 220), ('usage', 219), ('pool', 219), ('till', 219), ('lake', 219), ('proper', 219), ('procedure', 219), ('contribution', 219), ('coast', 219), ('environmental', 219), ('producing', 219), ('structured', 219), ('dynamic', 218), ('fire', 218), ('protocol', 218), ('ran', 218), ('obtained', 218), ('discovered', 218), ('mention', 218), ('falling', 218), ('currency', 218), ('memory', 218), ('felt', 218), ('softwares', 218), ('dash', 218), ('wynne', 217), ('kelly', 217), ('baxter', 217), ('provisions', 217), ('replace', 217), ('carefully', 217), ('comparison', 217), ('shared', 217), ('airlines', 217), ('mrha', 217), ('adds', 217), ('speakers', 217), ('brazil', 217), ('profiled', 217), ('masson', 217), ('fields', 216), ('integrated', 216), ('expertise', 216), ('arrive', 216), ('departure', 216), ('concept', 216), ('simulation', 216), ('kindly', 216), ('traffic', 216), ('liabilities', 216), ('luck', 215), ('aren', 215), ('mother', 215), ('ea', 215), ('denne', 215), ('leaders', 215), ('mine', 215), ('marketplace', 215), ('corei', 215), ('harris', 214), ('min', 214), ('designated', 214), ('favor', 214), ('anytime', 214), ('mailman', 214), ('served', 214), ('push', 214), ('chinese', 214), ('eim', 214), ('evp', 214), ('fraud', 214), ('enquiries', 214), ('rodriguez', 213), ('correspondence', 213), ('supervisor', 213), ('cancel', 213), ('parent', 213), ('square', 213), ('affordable', 213), ('dispute', 213), ('primarily', 213), ('winner', 213), ('sir', 213), ('block', 212), ('edge', 212), ('successfully', 212), ('supporting', 212), ('distributed', 212), ('consideration', 212), ('discounts', 212), ('doug', 212), ('sandeep', 212), ('refinance', 212), ('mi', 211), ('ps', 211), ('sit', 211), ('extent', 211), ('sr', 211), ('stone', 211), ('visitors', 211), ('probe', 211), ('muscle', 211), ('vincent', 211), ('timely', 210), ('hopefully', 210), ('seemed', 210), ('cec', 210), ('mon', 210), ('views', 210), ('stress', 210), ('trouble', 210), ('television', 210), ('piper', 210), ('encoding', 210), ('continental', 210), ('king', 209), ('absence', 209), ('reasonable', 209), ('eastrans', 209), ('girls', 209), ('lawyer', 209), ('campus', 209), ('dramatically', 209), ('swaps', 209), ('tablets', 209), ('sellers', 209), ('guess', 208), ('royal', 208), ('consequently', 208), ('subsidiaries', 208), ('institute', 208), ('matthew', 208), ('ford', 208), ('amazing', 208)]\n"
    }
   ],
   "source": [
    "import os\n",
    "from collections import Counter\n",
    "import numpy as np\n",
    "\n",
    "# 数据目录(如要运行代码请自行修改!!!)\n",
    "DATA_DIR = 'D:\\MY\\ml-data\\Enron-Spam\\pre-processed'\n",
    "# 选取频率最高的 N 个词作为特征(由于运行速度问题,这里并不设特别大)\n",
    "FEAT_NUM = 3000\n",
    "# 划分训练集(可自由组合 1~6 六个目录)(测试集见最后一个代码单元)\n",
    "TRAIN = [1, 2, 3, 4, 5]\n",
    "TRAIN_DIRS = []\n",
    "for i in TRAIN:\n",
    "    TRAIN_DIRS.append(os.path.join(DATA_DIR, 'enron' + str(i)))\n",
    "\n",
    "# 将出现次数最多的前 FEAT_NUM 个词构造为词典\n",
    "def make_dict(train_dirs):\n",
    "    all_words = []\n",
    "    for train_dir in train_dirs:\n",
    "        dirs = []\n",
    "        dirs.append(os.path.join(train_dir, 'ham'))\n",
    "        dirs.append(os.path.join(train_dir, 'spam'))\n",
    "        for d in dirs:\n",
    "            for f in os.listdir(d):\n",
    "                fp = os.path.join(d, f)\n",
    "                with open(fp, encoding='utf-8', errors='ignore') as email:\n",
    "                    for i, line in enumerate(email):\n",
    "                        if i != 1:\n",
    "                            words = line.split()\n",
    "                            all_words += words\n",
    "    res = Counter(all_words)\n",
    "    # 去除非单词和单个字母(认为其对于判断垃圾邮件没有太大帮助)\n",
    "    for k in res.keys():\n",
    "        if k.isalpha() == False:\n",
    "            res[k] = 0\n",
    "        elif len(k) == 1:\n",
    "            res[k] = 0\n",
    "    res = res.most_common(FEAT_NUM)\n",
    "    return res\n",
    "\n",
    "wv = make_dict(TRAIN_DIRS)\n",
    "print(wv)"
   ]
  },
  {
   "cell_type": "code",
   "execution_count": 16,
   "metadata": {
    "tags": [
     "outputPrepend"
    ]
   },
   "outputs": [
    {
     "output_type": "stream",
     "name": "stdout",
     "text": "[2. 1. 1. ... 0. 0. 0.]\n"
    }
   ],
   "source": [
    "def extract_feature(data_dirs, wv):\n",
    "    feature_matrix = []\n",
    "    labels = []\n",
    "    for data_dir in data_dirs:\n",
    "        docID = 0\n",
    "        # 将 ham 和 span 分开遍历, 同时填充 labels\n",
    "        ham_dir = os.path.join(data_dir, 'ham')\n",
    "        for f in os.listdir(ham_dir):\n",
    "            feature_matrix.append(np.zeros(FEAT_NUM))\n",
    "            # 0 代表 ham, 1 代表 spam\n",
    "            labels.append(0)\n",
    "            fp = os.path.join(ham_dir, f)\n",
    "            with open(fp, encoding='utf-8', errors='ignore') as email:\n",
    "                for i, line in enumerate(email):\n",
    "                    if i != 1:\n",
    "                        words = line.split()\n",
    "                        for w in words:\n",
    "                            for idx, d in enumerate(wv):\n",
    "                                if d[0] == w:\n",
    "                                    feature_matrix[docID][idx] = words.count(w)\n",
    "                docID = docID + 1\n",
    "        spam_dir = os.path.join(data_dir, 'spam')\n",
    "        for f in os.listdir(spam_dir):\n",
    "            feature_matrix.append(np.zeros(FEAT_NUM))\n",
    "            labels.append(1)\n",
    "            fp = os.path.join(spam_dir, f)\n",
    "            with open(fp, encoding='utf-8', errors='ignore') as email:\n",
    "                for i, line in enumerate(email):\n",
    "                    if i != 1:\n",
    "                        words = line.split()\n",
    "                        for w in words:\n",
    "                            for idx, d in enumerate(wv):\n",
    "                                if d[0] == w:\n",
    "                                    feature_matrix[docID][idx] = words.count(w)\n",
    "                docID = docID + 1\n",
    "    return feature_matrix, labels\n",
    "\n",
    "train_matrix, train_labels = extract_feature(TRAIN_DIRS, wv)\n",
    "# print(train_labels)\n",
    "print(train_matrix[1])"
   ]
  },
  {
   "cell_type": "code",
   "execution_count": 19,
   "metadata": {},
   "outputs": [
    {
     "output_type": "stream",
     "name": "stdout",
     "text": "ham  spam\nham   1341   159\nspam  2792  1708\nprecision score:  0.9148366363149437\nrecall score:  0.37955555555555553\nD:\\Anaconda3\\envs\\py36\\lib\\site-packages\\sklearn\\svm\\_base.py:947: ConvergenceWarning: Liblinear failed to converge, increase the number of iterations.\n  \"the number of iterations.\", ConvergenceWarning)\n"
    }
   ],
   "source": [
    "from sklearn.svm import LinearSVC\n",
    "from sklearn.metrics import confusion_matrix, precision_score, recall_score\n",
    "import pandas as pd\n",
    "\n",
    "# 划分测试集\n",
    "TEST = [6]\n",
    "TEST_DIRS = []\n",
    "for i in TEST:\n",
    "    TEST_DIRS.append(os.path.join(DATA_DIR, 'enron' + str(i)))\n",
    "test_matrix, test_labels = extract_feature(TEST_DIRS, wv)\n",
    "\n",
    "model = LinearSVC()\n",
    "model.fit(train_matrix, train_labels)\n",
    "\n",
    "result = model.predict(test_matrix)\n",
    "\n",
    "# 展示预测结果与实际情况对比, 精确率, 召回率\n",
    "rm = pd.DataFrame(\n",
    "    confusion_matrix(test_labels, result),\n",
    "    index=['ham', 'spam'],\n",
    "    columns=['ham', 'spam']\n",
    ")\n",
    "print(rm)\n",
    "print('precision score: ', precision_score(test_labels, result))\n",
    "print('recall score: ', recall_score(test_labels, result))"
   ]
  }
 ]
}